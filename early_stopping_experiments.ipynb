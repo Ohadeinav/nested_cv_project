{
 "cells": [
  {
   "cell_type": "code",
   "id": "initial_id",
   "metadata": {
    "collapsed": true,
    "ExecuteTime": {
     "end_time": "2024-09-17T11:13:35.611723Z",
     "start_time": "2024-09-17T11:13:34.225572Z"
    }
   },
   "source": "from notebook_env import * ",
   "outputs": [],
   "execution_count": 1
  },
  {
   "metadata": {
    "ExecuteTime": {
     "end_time": "2024-09-17T11:13:35.614514Z",
     "start_time": "2024-09-17T11:13:35.612642Z"
    }
   },
   "cell_type": "code",
   "source": [
    "epsilons_lin = np.linspace(1e-5, 1e-1, num = 20)\n",
    "epsilons_log = np.logspace(-5,-1, num = 20)\n"
   ],
   "id": "88ed7a098185b5fb",
   "outputs": [],
   "execution_count": 2
  },
  {
   "metadata": {
    "ExecuteTime": {
     "end_time": "2024-09-17T11:13:35.617157Z",
     "start_time": "2024-09-17T11:13:35.615042Z"
    }
   },
   "cell_type": "code",
   "source": [
    "k_inner, k_outer = 5,5\n",
    "n_reps = 1000\n",
    "patience = n_reps*(1+k_inner)*k_outer/50\n",
    "patience_list = np.linspace(n_reps*(1+k_inner)*k_outer/100, n_reps*(1+k_inner)*k_outer/10, num = 10)\n",
    "quantiles = [0.7]"
   ],
   "id": "2756b1581934af33",
   "outputs": [],
   "execution_count": 3
  },
  {
   "metadata": {
    "ExecuteTime": {
     "end_time": "2024-09-17T11:15:23.128087Z",
     "start_time": "2024-09-17T11:15:23.124072Z"
    }
   },
   "cell_type": "code",
   "source": [
    "# Define the experiment\n",
    "def run_single_early_stopping_experiment(n_reps, quantiles, k_outer, k_inner, epsilon, patience):\n",
    "    exp = nested_cv_intervals_with_early_stopping.CvIntervalsWithEarlyStoppingTest(n_reps,quantiles,k_outer,k_inner,epsilon,patience)\n",
    "    mean_error, intervals, miscoverage_rates, total_fits, max_fits = exp.run()\n",
    "    return mean_error, intervals, miscoverage_rates, total_fits, max_fits\n",
    "\n",
    "def run_early_stopping_over_epsilons(epsilons, n_reps, quantiles, k_outer, k_inner, patience):\n",
    "    results = {}\n",
    "    for epsilon in epsilons:\n",
    "        mean_error, intervals, miscoverage_rates, total_fits, max_fits = run_single_early_stopping_experiment(n_reps, quantiles, k_outer, k_inner, epsilon, patience)\n",
    "        results[epsilon] = (epsilon, patience, mean_error, intervals, miscoverage_rates, total_fits, max_fits)\n",
    "    return results\n",
    "\n",
    "def run_early_stopping_over_patiences(patience_values, n_reps, quantiles, k_outer, k_inner, epsilon):\n",
    "    results = {}\n",
    "    for patience in patience_values:\n",
    "        mean_error, intervals, miscoverage_rates, total_fits, max_fits = run_single_early_stopping_experiment(n_reps, quantiles, k_outer, k_inner, epsilon, patience)\n",
    "        results[patience] = (epsilon, patience, mean_error, intervals, miscoverage_rates, total_fits, max_fits)\n",
    "    return results\n",
    "\n",
    "def nested_cv_stats(n_reps, quantiles, k_outer, k_inner):\n",
    "    test = nested_cv_intervals.CvIntervalsTest(n_reps,quantiles,k_outer,k_inner)\n",
    "    return test.run()\n",
    "\n",
    "def classic_cv_stats(n_reps, quantiles):\n",
    "    test = cv_intervals.CvIntervalsTest(n_reps,quantiles)\n",
    "    miscoverage_rates = test.run()\n",
    "    return miscoverage_rates"
   ],
   "id": "3de4e0d9eea11b24",
   "outputs": [],
   "execution_count": 7
  },
  {
   "metadata": {
    "ExecuteTime": {
     "end_time": "2024-09-17T11:16:50.699655Z",
     "start_time": "2024-09-17T11:15:23.534049Z"
    }
   },
   "cell_type": "code",
   "source": "res = run_early_stopping_over_epsilons(epsilons_log, n_reps, quantiles, k_outer, k_inner, patience)",
   "id": "8d4561c479e2a11a",
   "outputs": [
    {
     "name": "stderr",
     "output_type": "stream",
     "text": [
      "Nested CV repetitions: 100%|██████████| 1000/1000 [00:06<00:00, 154.81it/s]\n"
     ]
    },
    {
     "name": "stdout",
     "output_type": "stream",
     "text": [
      "Total fits performed: 6918 out of 30000 possible.\n",
      "Estimated Prediction Error: 0.11758315460954119\n",
      "Confidence Intervals: {0.7: (0.11390183270585424, 0.12126447529983186)}\n",
      "Total Fits Performed: 6918 / 30000\n"
     ]
    },
    {
     "name": "stderr",
     "output_type": "stream",
     "text": [
      "Nested CV repetitions: 100%|██████████| 1000/1000 [00:06<00:00, 149.84it/s]\n"
     ]
    },
    {
     "name": "stdout",
     "output_type": "stream",
     "text": [
      "Total fits performed: 5898 out of 30000 possible.\n",
      "Estimated Prediction Error: 0.11620439828778852\n",
      "Confidence Intervals: {0.7: (0.11233311805895513, 0.12007567798979102)}\n",
      "Total Fits Performed: 5898 / 30000\n"
     ]
    },
    {
     "name": "stderr",
     "output_type": "stream",
     "text": [
      "Nested CV repetitions: 100%|██████████| 1000/1000 [00:06<00:00, 165.97it/s]\n"
     ]
    },
    {
     "name": "stdout",
     "output_type": "stream",
     "text": [
      "Total fits performed: 5130 out of 30000 possible.\n",
      "Estimated Prediction Error: 0.11943147835779275\n",
      "Confidence Intervals: {0.7: (0.1152725847315828, 0.12359036923368419)}\n",
      "Total Fits Performed: 5130 / 30000\n"
     ]
    },
    {
     "name": "stderr",
     "output_type": "stream",
     "text": [
      "Nested CV repetitions: 100%|██████████| 1000/1000 [00:05<00:00, 198.86it/s]\n"
     ]
    },
    {
     "name": "stdout",
     "output_type": "stream",
     "text": [
      "Total fits performed: 4482 out of 30000 possible.\n",
      "Estimated Prediction Error: 0.11448173438410658\n",
      "Confidence Intervals: {0.7: (0.11063293629485638, 0.11833053114154418)}\n",
      "Total Fits Performed: 4482 / 30000\n"
     ]
    },
    {
     "name": "stderr",
     "output_type": "stream",
     "text": [
      "Nested CV repetitions: 100%|██████████| 1000/1000 [00:04<00:00, 211.67it/s]\n"
     ]
    },
    {
     "name": "stdout",
     "output_type": "stream",
     "text": [
      "Total fits performed: 4146 out of 30000 possible.\n",
      "Estimated Prediction Error: 0.11654528510899224\n",
      "Confidence Intervals: {0.7: (0.11264847324157312, 0.12044209461097019)}\n",
      "Total Fits Performed: 4146 / 30000\n"
     ]
    },
    {
     "name": "stderr",
     "output_type": "stream",
     "text": [
      "Nested CV repetitions: 100%|██████████| 1000/1000 [00:04<00:00, 234.88it/s]\n"
     ]
    },
    {
     "name": "stdout",
     "output_type": "stream",
     "text": [
      "Total fits performed: 3906 out of 30000 possible.\n",
      "Estimated Prediction Error: 0.11716619527163183\n",
      "Confidence Intervals: {0.7: (0.11335894760491548, 0.12097344210438389)}\n",
      "Total Fits Performed: 3906 / 30000\n"
     ]
    },
    {
     "name": "stderr",
     "output_type": "stream",
     "text": [
      "Nested CV repetitions: 100%|██████████| 1000/1000 [00:03<00:00, 250.16it/s]\n"
     ]
    },
    {
     "name": "stdout",
     "output_type": "stream",
     "text": [
      "Total fits performed: 3792 out of 30000 possible.\n",
      "Estimated Prediction Error: 0.11535571008026087\n",
      "Confidence Intervals: {0.7: (0.11166851453405048, 0.11904290415471368)}\n",
      "Total Fits Performed: 3792 / 30000\n"
     ]
    },
    {
     "name": "stderr",
     "output_type": "stream",
     "text": [
      "Nested CV repetitions: 100%|██████████| 1000/1000 [00:03<00:00, 255.31it/s]\n"
     ]
    },
    {
     "name": "stdout",
     "output_type": "stream",
     "text": [
      "Total fits performed: 3732 out of 30000 possible.\n",
      "Estimated Prediction Error: 0.11513079496382857\n",
      "Confidence Intervals: {0.7: (0.11126073911972569, 0.11900085019994362)}\n",
      "Total Fits Performed: 3732 / 30000\n"
     ]
    },
    {
     "name": "stderr",
     "output_type": "stream",
     "text": [
      "Nested CV repetitions: 100%|██████████| 1000/1000 [00:03<00:00, 254.90it/s]\n"
     ]
    },
    {
     "name": "stdout",
     "output_type": "stream",
     "text": [
      "Total fits performed: 3672 out of 30000 possible.\n",
      "Estimated Prediction Error: 0.11719891883342064\n",
      "Confidence Intervals: {0.7: (0.11356811091920684, 0.12082972646195862)}\n",
      "Total Fits Performed: 3672 / 30000\n"
     ]
    },
    {
     "name": "stderr",
     "output_type": "stream",
     "text": [
      "Nested CV repetitions: 100%|██████████| 1000/1000 [00:03<00:00, 261.11it/s]\n"
     ]
    },
    {
     "name": "stdout",
     "output_type": "stream",
     "text": [
      "Total fits performed: 3648 out of 30000 possible.\n",
      "Estimated Prediction Error: 0.11430386950348341\n",
      "Confidence Intervals: {0.7: (0.11067841669244084, 0.11792931820798237)}\n",
      "Total Fits Performed: 3648 / 30000\n"
     ]
    },
    {
     "name": "stderr",
     "output_type": "stream",
     "text": [
      "Nested CV repetitions: 100%|██████████| 1000/1000 [00:03<00:00, 257.77it/s]\n"
     ]
    },
    {
     "name": "stdout",
     "output_type": "stream",
     "text": [
      "Total fits performed: 3642 out of 30000 possible.\n",
      "Estimated Prediction Error: 0.11175426801386441\n",
      "Confidence Intervals: {0.7: (0.10804240271256395, 0.11546613302106191)}\n",
      "Total Fits Performed: 3642 / 30000\n"
     ]
    },
    {
     "name": "stderr",
     "output_type": "stream",
     "text": [
      "Nested CV repetitions: 100%|██████████| 1000/1000 [00:03<00:00, 261.23it/s]\n"
     ]
    },
    {
     "name": "stdout",
     "output_type": "stream",
     "text": [
      "Total fits performed: 3624 out of 30000 possible.\n",
      "Estimated Prediction Error: 0.11716251216376436\n",
      "Confidence Intervals: {0.7: (0.11327443713504219, 0.12105058626387437)}\n",
      "Total Fits Performed: 3624 / 30000\n"
     ]
    },
    {
     "name": "stderr",
     "output_type": "stream",
     "text": [
      "Nested CV repetitions: 100%|██████████| 1000/1000 [00:03<00:00, 260.73it/s]\n"
     ]
    },
    {
     "name": "stdout",
     "output_type": "stream",
     "text": [
      "Total fits performed: 3618 out of 30000 possible.\n",
      "Estimated Prediction Error: 0.11452634414554354\n",
      "Confidence Intervals: {0.7: (0.11077208058660291, 0.11828060672760489)}\n",
      "Total Fits Performed: 3618 / 30000\n"
     ]
    },
    {
     "name": "stderr",
     "output_type": "stream",
     "text": [
      "Nested CV repetitions: 100%|██████████| 1000/1000 [00:03<00:00, 258.33it/s]\n"
     ]
    },
    {
     "name": "stdout",
     "output_type": "stream",
     "text": [
      "Total fits performed: 3618 out of 30000 possible.\n",
      "Estimated Prediction Error: 0.11558174166015814\n",
      "Confidence Intervals: {0.7: (0.11173193337482588, 0.11943154935125451)}\n",
      "Total Fits Performed: 3618 / 30000\n"
     ]
    },
    {
     "name": "stderr",
     "output_type": "stream",
     "text": [
      "Nested CV repetitions: 100%|██████████| 1000/1000 [00:03<00:00, 268.32it/s]\n"
     ]
    },
    {
     "name": "stdout",
     "output_type": "stream",
     "text": [
      "Total fits performed: 3612 out of 30000 possible.\n",
      "Estimated Prediction Error: 0.11632869609994903\n",
      "Confidence Intervals: {0.7: (0.11263961266560604, 0.12001777768289398)}\n",
      "Total Fits Performed: 3612 / 30000\n"
     ]
    },
    {
     "name": "stderr",
     "output_type": "stream",
     "text": [
      "Nested CV repetitions: 100%|██████████| 1000/1000 [00:03<00:00, 251.83it/s]\n"
     ]
    },
    {
     "name": "stdout",
     "output_type": "stream",
     "text": [
      "Total fits performed: 3612 out of 30000 possible.\n",
      "Estimated Prediction Error: 0.115238858058855\n",
      "Confidence Intervals: {0.7: (0.11134209950764878, 0.11913561350483384)}\n",
      "Total Fits Performed: 3612 / 30000\n"
     ]
    },
    {
     "name": "stderr",
     "output_type": "stream",
     "text": [
      "Nested CV repetitions: 100%|██████████| 1000/1000 [00:03<00:00, 269.92it/s]\n"
     ]
    },
    {
     "name": "stdout",
     "output_type": "stream",
     "text": [
      "Total fits performed: 3612 out of 30000 possible.\n",
      "Estimated Prediction Error: 0.11782369681600054\n",
      "Confidence Intervals: {0.7: (0.11388942632701027, 0.12175796699693406)}\n",
      "Total Fits Performed: 3612 / 30000\n"
     ]
    },
    {
     "name": "stderr",
     "output_type": "stream",
     "text": [
      "Nested CV repetitions: 100%|██████████| 1000/1000 [00:03<00:00, 267.71it/s]\n"
     ]
    },
    {
     "name": "stdout",
     "output_type": "stream",
     "text": [
      "Total fits performed: 3612 out of 30000 possible.\n",
      "Estimated Prediction Error: 0.11689280435545366\n",
      "Confidence Intervals: {0.7: (0.11300397664015258, 0.12078163082158405)}\n",
      "Total Fits Performed: 3612 / 30000\n"
     ]
    },
    {
     "name": "stderr",
     "output_type": "stream",
     "text": [
      "Nested CV repetitions: 100%|██████████| 1000/1000 [00:03<00:00, 267.24it/s]\n"
     ]
    },
    {
     "name": "stdout",
     "output_type": "stream",
     "text": [
      "Total fits performed: 3612 out of 30000 possible.\n",
      "Estimated Prediction Error: 0.11687463589591468\n",
      "Confidence Intervals: {0.7: (0.11303560632666373, 0.1207136625512642)}\n",
      "Total Fits Performed: 3612 / 30000\n"
     ]
    },
    {
     "name": "stderr",
     "output_type": "stream",
     "text": [
      "Nested CV repetitions: 100%|██████████| 1000/1000 [00:03<00:00, 250.69it/s]"
     ]
    },
    {
     "name": "stdout",
     "output_type": "stream",
     "text": [
      "Total fits performed: 3612 out of 30000 possible.\n",
      "Estimated Prediction Error: 0.11385718303252554\n",
      "Confidence Intervals: {0.7: (0.11004054001084744, 0.11767382433694208)}\n",
      "Total Fits Performed: 3612 / 30000\n"
     ]
    },
    {
     "name": "stderr",
     "output_type": "stream",
     "text": [
      "\n"
     ]
    }
   ],
   "execution_count": 8
  },
  {
   "metadata": {
    "ExecuteTime": {
     "end_time": "2024-09-17T11:16:50.702716Z",
     "start_time": "2024-09-17T11:16:50.701308Z"
    }
   },
   "cell_type": "code",
   "source": "",
   "id": "f6291292d132471e",
   "outputs": [],
   "execution_count": 8
  },
  {
   "metadata": {
    "ExecuteTime": {
     "end_time": "2024-09-17T11:16:50.741158Z",
     "start_time": "2024-09-17T11:16:50.705880Z"
    }
   },
   "cell_type": "code",
   "source": [
    "res_df = pd.DataFrame(res).T\n",
    "res_df.columns = ['epsilon', 'patience', 'mean_error', 'intervals', 'miscoverage_rates', 'total_fits', 'max_fits']\n",
    "res_df.index.name = 'epsilon'\n",
    "res_df.head(20)"
   ],
   "id": "ee5d9bd41e83fce8",
   "outputs": [
    {
     "data": {
      "text/plain": [
       "           epsilon patience mean_error  \\\n",
       "epsilon                                  \n",
       "0.000010   0.00001    600.0   0.117583   \n",
       "0.000016  0.000016    600.0   0.116204   \n",
       "0.000026  0.000026    600.0   0.119431   \n",
       "0.000043  0.000043    600.0   0.114482   \n",
       "0.000070   0.00007    600.0   0.116545   \n",
       "0.000113  0.000113    600.0   0.117166   \n",
       "0.000183  0.000183    600.0   0.115356   \n",
       "0.000298  0.000298    600.0   0.115131   \n",
       "0.000483  0.000483    600.0   0.117199   \n",
       "0.000785  0.000785    600.0   0.114304   \n",
       "0.001274  0.001274    600.0   0.111754   \n",
       "0.002069  0.002069    600.0   0.117163   \n",
       "0.003360   0.00336    600.0   0.114526   \n",
       "0.005456  0.005456    600.0   0.115582   \n",
       "0.008859  0.008859    600.0   0.116329   \n",
       "0.014384  0.014384    600.0   0.115239   \n",
       "0.023357  0.023357    600.0   0.117824   \n",
       "0.037927  0.037927    600.0   0.116893   \n",
       "0.061585  0.061585    600.0   0.116875   \n",
       "0.100000       0.1    600.0   0.113857   \n",
       "\n",
       "                                                  intervals miscoverage_rates  \\\n",
       "epsilon                                                                         \n",
       "0.000010  {0.7: (0.11390183270585424, 0.12126447529983186)}      {0.7: 0.231}   \n",
       "0.000016  {0.7: (0.11233311805895513, 0.12007567798979102)}       {0.7: 0.28}   \n",
       "0.000026   {0.7: (0.1152725847315828, 0.12359036923368419)}       {0.7: 0.29}   \n",
       "0.000043  {0.7: (0.11063293629485638, 0.11833053114154418)}      {0.7: 0.265}   \n",
       "0.000070  {0.7: (0.11264847324157312, 0.12044209461097019)}      {0.7: 0.254}   \n",
       "0.000113  {0.7: (0.11335894760491548, 0.12097344210438389)}      {0.7: 0.292}   \n",
       "0.000183  {0.7: (0.11166851453405048, 0.11904290415471368)}      {0.7: 0.243}   \n",
       "0.000298  {0.7: (0.11126073911972569, 0.11900085019994362)}       {0.7: 0.23}   \n",
       "0.000483  {0.7: (0.11356811091920684, 0.12082972646195862)}      {0.7: 0.273}   \n",
       "0.000785  {0.7: (0.11067841669244084, 0.11792931820798237)}      {0.7: 0.322}   \n",
       "0.001274  {0.7: (0.10804240271256395, 0.11546613302106191)}      {0.7: 0.298}   \n",
       "0.002069  {0.7: (0.11327443713504219, 0.12105058626387437)}      {0.7: 0.256}   \n",
       "0.003360  {0.7: (0.11077208058660291, 0.11828060672760489)}      {0.7: 0.264}   \n",
       "0.005456  {0.7: (0.11173193337482588, 0.11943154935125451)}      {0.7: 0.277}   \n",
       "0.008859  {0.7: (0.11263961266560604, 0.12001777768289398)}      {0.7: 0.271}   \n",
       "0.014384  {0.7: (0.11134209950764878, 0.11913561350483384)}      {0.7: 0.233}   \n",
       "0.023357  {0.7: (0.11388942632701027, 0.12175796699693406)}      {0.7: 0.251}   \n",
       "0.037927  {0.7: (0.11300397664015258, 0.12078163082158405)}       {0.7: 0.28}   \n",
       "0.061585   {0.7: (0.11303560632666373, 0.1207136625512642)}      {0.7: 0.234}   \n",
       "0.100000  {0.7: (0.11004054001084744, 0.11767382433694208)}      {0.7: 0.246}   \n",
       "\n",
       "         total_fits max_fits  \n",
       "epsilon                       \n",
       "0.000010       6918    30000  \n",
       "0.000016       5898    30000  \n",
       "0.000026       5130    30000  \n",
       "0.000043       4482    30000  \n",
       "0.000070       4146    30000  \n",
       "0.000113       3906    30000  \n",
       "0.000183       3792    30000  \n",
       "0.000298       3732    30000  \n",
       "0.000483       3672    30000  \n",
       "0.000785       3648    30000  \n",
       "0.001274       3642    30000  \n",
       "0.002069       3624    30000  \n",
       "0.003360       3618    30000  \n",
       "0.005456       3618    30000  \n",
       "0.008859       3612    30000  \n",
       "0.014384       3612    30000  \n",
       "0.023357       3612    30000  \n",
       "0.037927       3612    30000  \n",
       "0.061585       3612    30000  \n",
       "0.100000       3612    30000  "
      ],
      "text/html": [
       "<div>\n",
       "<style scoped>\n",
       "    .dataframe tbody tr th:only-of-type {\n",
       "        vertical-align: middle;\n",
       "    }\n",
       "\n",
       "    .dataframe tbody tr th {\n",
       "        vertical-align: top;\n",
       "    }\n",
       "\n",
       "    .dataframe thead th {\n",
       "        text-align: right;\n",
       "    }\n",
       "</style>\n",
       "<table border=\"1\" class=\"dataframe\">\n",
       "  <thead>\n",
       "    <tr style=\"text-align: right;\">\n",
       "      <th></th>\n",
       "      <th>epsilon</th>\n",
       "      <th>patience</th>\n",
       "      <th>mean_error</th>\n",
       "      <th>intervals</th>\n",
       "      <th>miscoverage_rates</th>\n",
       "      <th>total_fits</th>\n",
       "      <th>max_fits</th>\n",
       "    </tr>\n",
       "    <tr>\n",
       "      <th>epsilon</th>\n",
       "      <th></th>\n",
       "      <th></th>\n",
       "      <th></th>\n",
       "      <th></th>\n",
       "      <th></th>\n",
       "      <th></th>\n",
       "      <th></th>\n",
       "    </tr>\n",
       "  </thead>\n",
       "  <tbody>\n",
       "    <tr>\n",
       "      <th>0.000010</th>\n",
       "      <td>0.00001</td>\n",
       "      <td>600.0</td>\n",
       "      <td>0.117583</td>\n",
       "      <td>{0.7: (0.11390183270585424, 0.12126447529983186)}</td>\n",
       "      <td>{0.7: 0.231}</td>\n",
       "      <td>6918</td>\n",
       "      <td>30000</td>\n",
       "    </tr>\n",
       "    <tr>\n",
       "      <th>0.000016</th>\n",
       "      <td>0.000016</td>\n",
       "      <td>600.0</td>\n",
       "      <td>0.116204</td>\n",
       "      <td>{0.7: (0.11233311805895513, 0.12007567798979102)}</td>\n",
       "      <td>{0.7: 0.28}</td>\n",
       "      <td>5898</td>\n",
       "      <td>30000</td>\n",
       "    </tr>\n",
       "    <tr>\n",
       "      <th>0.000026</th>\n",
       "      <td>0.000026</td>\n",
       "      <td>600.0</td>\n",
       "      <td>0.119431</td>\n",
       "      <td>{0.7: (0.1152725847315828, 0.12359036923368419)}</td>\n",
       "      <td>{0.7: 0.29}</td>\n",
       "      <td>5130</td>\n",
       "      <td>30000</td>\n",
       "    </tr>\n",
       "    <tr>\n",
       "      <th>0.000043</th>\n",
       "      <td>0.000043</td>\n",
       "      <td>600.0</td>\n",
       "      <td>0.114482</td>\n",
       "      <td>{0.7: (0.11063293629485638, 0.11833053114154418)}</td>\n",
       "      <td>{0.7: 0.265}</td>\n",
       "      <td>4482</td>\n",
       "      <td>30000</td>\n",
       "    </tr>\n",
       "    <tr>\n",
       "      <th>0.000070</th>\n",
       "      <td>0.00007</td>\n",
       "      <td>600.0</td>\n",
       "      <td>0.116545</td>\n",
       "      <td>{0.7: (0.11264847324157312, 0.12044209461097019)}</td>\n",
       "      <td>{0.7: 0.254}</td>\n",
       "      <td>4146</td>\n",
       "      <td>30000</td>\n",
       "    </tr>\n",
       "    <tr>\n",
       "      <th>0.000113</th>\n",
       "      <td>0.000113</td>\n",
       "      <td>600.0</td>\n",
       "      <td>0.117166</td>\n",
       "      <td>{0.7: (0.11335894760491548, 0.12097344210438389)}</td>\n",
       "      <td>{0.7: 0.292}</td>\n",
       "      <td>3906</td>\n",
       "      <td>30000</td>\n",
       "    </tr>\n",
       "    <tr>\n",
       "      <th>0.000183</th>\n",
       "      <td>0.000183</td>\n",
       "      <td>600.0</td>\n",
       "      <td>0.115356</td>\n",
       "      <td>{0.7: (0.11166851453405048, 0.11904290415471368)}</td>\n",
       "      <td>{0.7: 0.243}</td>\n",
       "      <td>3792</td>\n",
       "      <td>30000</td>\n",
       "    </tr>\n",
       "    <tr>\n",
       "      <th>0.000298</th>\n",
       "      <td>0.000298</td>\n",
       "      <td>600.0</td>\n",
       "      <td>0.115131</td>\n",
       "      <td>{0.7: (0.11126073911972569, 0.11900085019994362)}</td>\n",
       "      <td>{0.7: 0.23}</td>\n",
       "      <td>3732</td>\n",
       "      <td>30000</td>\n",
       "    </tr>\n",
       "    <tr>\n",
       "      <th>0.000483</th>\n",
       "      <td>0.000483</td>\n",
       "      <td>600.0</td>\n",
       "      <td>0.117199</td>\n",
       "      <td>{0.7: (0.11356811091920684, 0.12082972646195862)}</td>\n",
       "      <td>{0.7: 0.273}</td>\n",
       "      <td>3672</td>\n",
       "      <td>30000</td>\n",
       "    </tr>\n",
       "    <tr>\n",
       "      <th>0.000785</th>\n",
       "      <td>0.000785</td>\n",
       "      <td>600.0</td>\n",
       "      <td>0.114304</td>\n",
       "      <td>{0.7: (0.11067841669244084, 0.11792931820798237)}</td>\n",
       "      <td>{0.7: 0.322}</td>\n",
       "      <td>3648</td>\n",
       "      <td>30000</td>\n",
       "    </tr>\n",
       "    <tr>\n",
       "      <th>0.001274</th>\n",
       "      <td>0.001274</td>\n",
       "      <td>600.0</td>\n",
       "      <td>0.111754</td>\n",
       "      <td>{0.7: (0.10804240271256395, 0.11546613302106191)}</td>\n",
       "      <td>{0.7: 0.298}</td>\n",
       "      <td>3642</td>\n",
       "      <td>30000</td>\n",
       "    </tr>\n",
       "    <tr>\n",
       "      <th>0.002069</th>\n",
       "      <td>0.002069</td>\n",
       "      <td>600.0</td>\n",
       "      <td>0.117163</td>\n",
       "      <td>{0.7: (0.11327443713504219, 0.12105058626387437)}</td>\n",
       "      <td>{0.7: 0.256}</td>\n",
       "      <td>3624</td>\n",
       "      <td>30000</td>\n",
       "    </tr>\n",
       "    <tr>\n",
       "      <th>0.003360</th>\n",
       "      <td>0.00336</td>\n",
       "      <td>600.0</td>\n",
       "      <td>0.114526</td>\n",
       "      <td>{0.7: (0.11077208058660291, 0.11828060672760489)}</td>\n",
       "      <td>{0.7: 0.264}</td>\n",
       "      <td>3618</td>\n",
       "      <td>30000</td>\n",
       "    </tr>\n",
       "    <tr>\n",
       "      <th>0.005456</th>\n",
       "      <td>0.005456</td>\n",
       "      <td>600.0</td>\n",
       "      <td>0.115582</td>\n",
       "      <td>{0.7: (0.11173193337482588, 0.11943154935125451)}</td>\n",
       "      <td>{0.7: 0.277}</td>\n",
       "      <td>3618</td>\n",
       "      <td>30000</td>\n",
       "    </tr>\n",
       "    <tr>\n",
       "      <th>0.008859</th>\n",
       "      <td>0.008859</td>\n",
       "      <td>600.0</td>\n",
       "      <td>0.116329</td>\n",
       "      <td>{0.7: (0.11263961266560604, 0.12001777768289398)}</td>\n",
       "      <td>{0.7: 0.271}</td>\n",
       "      <td>3612</td>\n",
       "      <td>30000</td>\n",
       "    </tr>\n",
       "    <tr>\n",
       "      <th>0.014384</th>\n",
       "      <td>0.014384</td>\n",
       "      <td>600.0</td>\n",
       "      <td>0.115239</td>\n",
       "      <td>{0.7: (0.11134209950764878, 0.11913561350483384)}</td>\n",
       "      <td>{0.7: 0.233}</td>\n",
       "      <td>3612</td>\n",
       "      <td>30000</td>\n",
       "    </tr>\n",
       "    <tr>\n",
       "      <th>0.023357</th>\n",
       "      <td>0.023357</td>\n",
       "      <td>600.0</td>\n",
       "      <td>0.117824</td>\n",
       "      <td>{0.7: (0.11388942632701027, 0.12175796699693406)}</td>\n",
       "      <td>{0.7: 0.251}</td>\n",
       "      <td>3612</td>\n",
       "      <td>30000</td>\n",
       "    </tr>\n",
       "    <tr>\n",
       "      <th>0.037927</th>\n",
       "      <td>0.037927</td>\n",
       "      <td>600.0</td>\n",
       "      <td>0.116893</td>\n",
       "      <td>{0.7: (0.11300397664015258, 0.12078163082158405)}</td>\n",
       "      <td>{0.7: 0.28}</td>\n",
       "      <td>3612</td>\n",
       "      <td>30000</td>\n",
       "    </tr>\n",
       "    <tr>\n",
       "      <th>0.061585</th>\n",
       "      <td>0.061585</td>\n",
       "      <td>600.0</td>\n",
       "      <td>0.116875</td>\n",
       "      <td>{0.7: (0.11303560632666373, 0.1207136625512642)}</td>\n",
       "      <td>{0.7: 0.234}</td>\n",
       "      <td>3612</td>\n",
       "      <td>30000</td>\n",
       "    </tr>\n",
       "    <tr>\n",
       "      <th>0.100000</th>\n",
       "      <td>0.1</td>\n",
       "      <td>600.0</td>\n",
       "      <td>0.113857</td>\n",
       "      <td>{0.7: (0.11004054001084744, 0.11767382433694208)}</td>\n",
       "      <td>{0.7: 0.246}</td>\n",
       "      <td>3612</td>\n",
       "      <td>30000</td>\n",
       "    </tr>\n",
       "  </tbody>\n",
       "</table>\n",
       "</div>"
      ]
     },
     "execution_count": 9,
     "metadata": {},
     "output_type": "execute_result"
    }
   ],
   "execution_count": 9
  },
  {
   "metadata": {
    "ExecuteTime": {
     "end_time": "2024-09-17T10:40:06.133039Z",
     "start_time": "2024-09-17T10:40:06.114725Z"
    }
   },
   "cell_type": "code",
   "source": "#res_df.plot(x = 'epsilon', y = 'total_fits')",
   "id": "7284138e5e013409",
   "outputs": [],
   "execution_count": 15
  },
  {
   "metadata": {
    "ExecuteTime": {
     "end_time": "2024-09-17T12:07:12.623765Z",
     "start_time": "2024-09-17T12:06:46.277074Z"
    }
   },
   "cell_type": "code",
   "source": [
    "_,_, ncv_miscoverage_rates  = nested_cv_stats(n_reps, quantiles, k_outer, k_inner)\n",
    "cv_miscoverage_rates = classic_cv_stats(n_reps, quantiles)"
   ],
   "id": "55ad4c47afad5cd9",
   "outputs": [
    {
     "name": "stderr",
     "output_type": "stream",
     "text": [
      "Nested CV repetitions: 100%|██████████| 1000/1000 [00:24<00:00, 40.82it/s]\n"
     ]
    },
    {
     "name": "stdout",
     "output_type": "stream",
     "text": [
      "Estimated Prediction Error: 0.11609214460896851\n",
      "Confidence Intervals:  {0.7: (0.11231340633448328, 0.11987088120809031)}\n"
     ]
    },
    {
     "name": "stderr",
     "output_type": "stream",
     "text": [
      "Simulations: 100%|██████████| 1000/1000 [00:01<00:00, 550.00it/s]"
     ]
    },
    {
     "name": "stdout",
     "output_type": "stream",
     "text": [
      "\n",
      "Confidence Interval Sizes:\n",
      "Quantile: 0.70, Interval Size: 0.0245, Lower Bound: 0.1514, Upper Bound: 0.1760\n",
      "Quantile: 0.80, Interval Size: 0.0303, Lower Bound: 0.1485, Upper Bound: 0.1789\n",
      "Quantile: 0.90, Interval Size: 0.0389, Lower Bound: 0.1442, Upper Bound: 0.1832\n",
      "Quantile: 0.95, Interval Size: 0.0464, Lower Bound: 0.1405, Upper Bound: 0.1869\n",
      "\n",
      "Evaluating miscoverage rate for quantile: 0.7\n",
      "Quantile 0.7: Within Interval = 581, Total Samples = 1000, Miscoverage Rate = 0.4190\n"
     ]
    },
    {
     "name": "stderr",
     "output_type": "stream",
     "text": [
      "\n"
     ]
    }
   ],
   "execution_count": 70
  },
  {
   "metadata": {
    "ExecuteTime": {
     "end_time": "2024-09-17T13:52:29.384545Z",
     "start_time": "2024-09-17T13:52:29.377559Z"
    }
   },
   "cell_type": "code",
   "source": [
    "import math\n",
    "def plot_fits_and_miscoverage(res_df, quantile, ncv_miscoverage_rates, cv_miscoverage_rates, xaxis, logx=False):\n",
    "    fig =plt.figure(figsize=(10,3))\n",
    "    ax = fig.add_subplot(121)\n",
    "    ax.plot(res_df[xaxis], res_df['total_fits'])\n",
    "    ax.grid(alpha = 0.2)\n",
    "    ax.set(\n",
    "        xlabel = xaxis,\n",
    "        ylabel = 'Total Model Fits',\n",
    "        title = 'Total Model Fits with early stopping',\n",
    "        ylim = (math.floor(res_df['total_fits'].min()/1e3)*1e3 ,math.ceil(res_df['total_fits'].max()/1e3)*1e3),\n",
    "        xscale = 'log' if logx else 'linear'\n",
    "    )\n",
    "    \n",
    "    ax = fig.add_subplot(122)\n",
    "    miscoverage_rates = res_df['miscoverage_rates'].apply(lambda x: x[quantile])\n",
    "    cv_miscoverage_rate = cv_miscoverage_rates[quantile]\n",
    "    ncv_miscoverage_rate = ncv_miscoverage_rates[quantile]\n",
    "    ax.plot(res_df[xaxis], miscoverage_rates, label = 'Miscoverage Rates')\n",
    "    ax.axhline(cv_miscoverage_rate, color = 'green', linestyle = '--', label = 'CV Miscoverage Rate')\n",
    "    ax.axhline(ncv_miscoverage_rate, color = 'red', linestyle = '--', label = 'Nested CV Miscoverage Rate')\n",
    "    ax.legend(bbox_to_anchor=(1.05, 1), loc='upper left', fontsize = 'small')\n",
    "    ax.grid(alpha = 0.2)\n",
    "    ax.set(\n",
    "        xlabel = xaxis,\n",
    "        ylabel = 'Miscoverage Rate',\n",
    "        title = 'Miscoverage Rate with early stopping',\n",
    "        xscale = 'log' if logx else 'linear'\n",
    "    )\n",
    "    plt.tight_layout()\n",
    "    plt.show()"
   ],
   "id": "e1e8b938ce53656d",
   "outputs": [],
   "execution_count": 93
  },
  {
   "metadata": {
    "ExecuteTime": {
     "end_time": "2024-09-17T13:51:27.261884Z",
     "start_time": "2024-09-17T13:51:26.903625Z"
    }
   },
   "cell_type": "code",
   "source": "plot_fits_and_miscoverage(res_df, 0.7, ncv_miscoverage_rates, cv_miscoverage_rates, xaxis= 'epsilon', logx=True)",
   "id": "b6dcd9c9f74e6a79",
   "outputs": [
    {
     "data": {
      "text/plain": [
       "<Figure size 1000x300 with 2 Axes>"
      ],
      "image/png": "[encoded data removed]"
     },
     "metadata": {
      "image/png": {
       "width": 988,
       "height": 290
      }
     },
     "output_type": "display_data"
    }
   ],
   "execution_count": 91
  },
  {
   "metadata": {
    "ExecuteTime": {
     "end_time": "2024-09-17T13:44:37.512397Z",
     "start_time": "2024-09-17T13:43:11.984309Z"
    }
   },
   "cell_type": "code",
   "source": "res_patience = run_early_stopping_over_patiences(patience_list, n_reps, quantiles, k_outer, k_inner, 1e-3)",
   "id": "f4b343f87607b5bd",
   "outputs": [
    {
     "name": "stderr",
     "output_type": "stream",
     "text": [
      "Nested CV repetitions: 100%|██████████| 1000/1000 [00:02<00:00, 384.69it/s]\n"
     ]
    },
    {
     "name": "stdout",
     "output_type": "stream",
     "text": [
      "Total fits performed: 1848 out of 30000 possible.\n",
      "Estimated Prediction Error: 0.11758833151791018\n",
      "Confidence Intervals: {0.7: (0.11383614173879775, 0.12134052043126081)}\n",
      "Total Fits Performed: 1848 / 30000\n"
     ]
    },
    {
     "name": "stderr",
     "output_type": "stream",
     "text": [
      "Nested CV repetitions: 100%|██████████| 1000/1000 [00:03<00:00, 269.81it/s]\n"
     ]
    },
    {
     "name": "stdout",
     "output_type": "stream",
     "text": [
      "Total fits performed: 3648 out of 30000 possible.\n",
      "Estimated Prediction Error: 0.111615035253477\n",
      "Confidence Intervals: {0.7: (0.10799449325275551, 0.11523557681551788)}\n",
      "Total Fits Performed: 3648 / 30000\n"
     ]
    },
    {
     "name": "stderr",
     "output_type": "stream",
     "text": [
      "Nested CV repetitions: 100%|██████████| 1000/1000 [00:04<00:00, 202.26it/s]\n"
     ]
    },
    {
     "name": "stdout",
     "output_type": "stream",
     "text": [
      "Total fits performed: 5448 out of 30000 possible.\n",
      "Estimated Prediction Error: 0.11871951907587883\n",
      "Confidence Intervals: {0.7: (0.11458135198867091, 0.12285768475199337)}\n",
      "Total Fits Performed: 5448 / 30000\n"
     ]
    },
    {
     "name": "stderr",
     "output_type": "stream",
     "text": [
      "Nested CV repetitions: 100%|██████████| 1000/1000 [00:06<00:00, 151.81it/s]\n"
     ]
    },
    {
     "name": "stdout",
     "output_type": "stream",
     "text": [
      "Total fits performed: 7248 out of 30000 possible.\n",
      "Estimated Prediction Error: 0.11591774162935407\n",
      "Confidence Intervals: {0.7: (0.1121686714866445, 0.11966681058484821)}\n",
      "Total Fits Performed: 7248 / 30000\n"
     ]
    },
    {
     "name": "stderr",
     "output_type": "stream",
     "text": [
      "Nested CV repetitions: 100%|██████████| 1000/1000 [00:07<00:00, 130.59it/s]\n"
     ]
    },
    {
     "name": "stdout",
     "output_type": "stream",
     "text": [
      "Total fits performed: 9042 out of 30000 possible.\n",
      "Estimated Prediction Error: 0.11432590027929138\n",
      "Confidence Intervals: {0.7: (0.11063613881050656, 0.11801566007207644)}\n",
      "Total Fits Performed: 9042 / 30000\n"
     ]
    },
    {
     "name": "stderr",
     "output_type": "stream",
     "text": [
      "Nested CV repetitions: 100%|██████████| 1000/1000 [00:08<00:00, 112.51it/s]\n"
     ]
    },
    {
     "name": "stdout",
     "output_type": "stream",
     "text": [
      "Total fits performed: 10830 out of 30000 possible.\n",
      "Estimated Prediction Error: 0.11491474032300544\n",
      "Confidence Intervals: {0.7: (0.11091460280452876, 0.11891487632141888)}\n",
      "Total Fits Performed: 10830 / 30000\n"
     ]
    },
    {
     "name": "stderr",
     "output_type": "stream",
     "text": [
      "Nested CV repetitions: 100%|██████████| 1000/1000 [00:10<00:00, 92.67it/s]\n"
     ]
    },
    {
     "name": "stdout",
     "output_type": "stream",
     "text": [
      "Total fits performed: 12654 out of 30000 possible.\n",
      "Estimated Prediction Error: 0.11817488973208964\n",
      "Confidence Intervals: {0.7: (0.11435392520464716, 0.12199585249272982)}\n",
      "Total Fits Performed: 12654 / 30000\n"
     ]
    },
    {
     "name": "stderr",
     "output_type": "stream",
     "text": [
      "Nested CV repetitions: 100%|██████████| 1000/1000 [00:11<00:00, 85.70it/s]\n"
     ]
    },
    {
     "name": "stdout",
     "output_type": "stream",
     "text": [
      "Total fits performed: 14436 out of 30000 possible.\n",
      "Estimated Prediction Error: 0.1163371292090035\n",
      "Confidence Intervals: {0.7: (0.11253532908581665, 0.12013892770004458)}\n",
      "Total Fits Performed: 14436 / 30000\n"
     ]
    },
    {
     "name": "stderr",
     "output_type": "stream",
     "text": [
      "Nested CV repetitions: 100%|██████████| 1000/1000 [00:13<00:00, 73.18it/s]\n"
     ]
    },
    {
     "name": "stdout",
     "output_type": "stream",
     "text": [
      "Total fits performed: 16236 out of 30000 possible.\n",
      "Estimated Prediction Error: 0.1152538552427352\n",
      "Confidence Intervals: {0.7: (0.11155598014515393, 0.11895172926815843)}\n",
      "Total Fits Performed: 16236 / 30000\n"
     ]
    },
    {
     "name": "stderr",
     "output_type": "stream",
     "text": [
      "Nested CV repetitions: 100%|██████████| 1000/1000 [00:14<00:00, 66.74it/s]"
     ]
    },
    {
     "name": "stdout",
     "output_type": "stream",
     "text": [
      "Total fits performed: 18036 out of 30000 possible.\n",
      "Estimated Prediction Error: 0.11319825842441895\n",
      "Confidence Intervals: {0.7: (0.10948812284902441, 0.11690839250130915)}\n",
      "Total Fits Performed: 18036 / 30000\n"
     ]
    },
    {
     "name": "stderr",
     "output_type": "stream",
     "text": [
      "\n"
     ]
    }
   ],
   "execution_count": 81
  },
  {
   "metadata": {
    "ExecuteTime": {
     "end_time": "2024-09-17T13:46:03.527749Z",
     "start_time": "2024-09-17T13:46:03.511478Z"
    }
   },
   "cell_type": "code",
   "source": [
    "res_patience_df = pd.DataFrame(res_patience).T\n",
    "res_patience_df.columns = ['epsilon', 'patience', 'mean_error', 'intervals', 'miscoverage_rates', 'total_fits', 'max_fits']\n",
    "res_patience_df.index.name = 'patience'\n",
    "res_patience_df.head(10)"
   ],
   "id": "6f9675c1a335bc0a",
   "outputs": [
    {
     "data": {
      "text/plain": [
       "         epsilon patience mean_error  \\\n",
       "patience                               \n",
       "300.0      0.001    300.0   0.117588   \n",
       "600.0      0.001    600.0   0.111615   \n",
       "900.0      0.001    900.0    0.11872   \n",
       "1200.0     0.001   1200.0   0.115918   \n",
       "1500.0     0.001   1500.0   0.114326   \n",
       "1800.0     0.001   1800.0   0.114915   \n",
       "2100.0     0.001   2100.0   0.118175   \n",
       "2400.0     0.001   2400.0   0.116337   \n",
       "2700.0     0.001   2700.0   0.115254   \n",
       "3000.0     0.001   3000.0   0.113198   \n",
       "\n",
       "                                                  intervals miscoverage_rates  \\\n",
       "patience                                                                        \n",
       "300.0     {0.7: (0.11383614173879775, 0.12134052043126081)}      {0.7: 0.282}   \n",
       "600.0     {0.7: (0.10799449325275551, 0.11523557681551788)}      {0.7: 0.296}   \n",
       "900.0     {0.7: (0.11458135198867091, 0.12285768475199337)}      {0.7: 0.261}   \n",
       "1200.0     {0.7: (0.1121686714866445, 0.11966681058484821)}      {0.7: 0.267}   \n",
       "1500.0    {0.7: (0.11063613881050656, 0.11801566007207644)}       {0.7: 0.27}   \n",
       "1800.0    {0.7: (0.11091460280452876, 0.11891487632141888)}      {0.7: 0.222}   \n",
       "2100.0    {0.7: (0.11435392520464716, 0.12199585249272982)}      {0.7: 0.282}   \n",
       "2400.0    {0.7: (0.11253532908581665, 0.12013892770004458)}      {0.7: 0.288}   \n",
       "2700.0    {0.7: (0.11155598014515393, 0.11895172926815843)}      {0.7: 0.277}   \n",
       "3000.0    {0.7: (0.10948812284902441, 0.11690839250130915)}      {0.7: 0.264}   \n",
       "\n",
       "         total_fits max_fits  \n",
       "patience                      \n",
       "300.0          1848    30000  \n",
       "600.0          3648    30000  \n",
       "900.0          5448    30000  \n",
       "1200.0         7248    30000  \n",
       "1500.0         9042    30000  \n",
       "1800.0        10830    30000  \n",
       "2100.0        12654    30000  \n",
       "2400.0        14436    30000  \n",
       "2700.0        16236    30000  \n",
       "3000.0        18036    30000  "
      ],
      "text/html": [
       "<div>\n",
       "<style scoped>\n",
       "    .dataframe tbody tr th:only-of-type {\n",
       "        vertical-align: middle;\n",
       "    }\n",
       "\n",
       "    .dataframe tbody tr th {\n",
       "        vertical-align: top;\n",
       "    }\n",
       "\n",
       "    .dataframe thead th {\n",
       "        text-align: right;\n",
       "    }\n",
       "</style>\n",
       "<table border=\"1\" class=\"dataframe\">\n",
       "  <thead>\n",
       "    <tr style=\"text-align: right;\">\n",
       "      <th></th>\n",
       "      <th>epsilon</th>\n",
       "      <th>patience</th>\n",
       "      <th>mean_error</th>\n",
       "      <th>intervals</th>\n",
       "      <th>miscoverage_rates</th>\n",
       "      <th>total_fits</th>\n",
       "      <th>max_fits</th>\n",
       "    </tr>\n",
       "    <tr>\n",
       "      <th>patience</th>\n",
       "      <th></th>\n",
       "      <th></th>\n",
       "      <th></th>\n",
       "      <th></th>\n",
       "      <th></th>\n",
       "      <th></th>\n",
       "      <th></th>\n",
       "    </tr>\n",
       "  </thead>\n",
       "  <tbody>\n",
       "    <tr>\n",
       "      <th>300.0</th>\n",
       "      <td>0.001</td>\n",
       "      <td>300.0</td>\n",
       "      <td>0.117588</td>\n",
       "      <td>{0.7: (0.11383614173879775, 0.12134052043126081)}</td>\n",
       "      <td>{0.7: 0.282}</td>\n",
       "      <td>1848</td>\n",
       "      <td>30000</td>\n",
       "    </tr>\n",
       "    <tr>\n",
       "      <th>600.0</th>\n",
       "      <td>0.001</td>\n",
       "      <td>600.0</td>\n",
       "      <td>0.111615</td>\n",
       "      <td>{0.7: (0.10799449325275551, 0.11523557681551788)}</td>\n",
       "      <td>{0.7: 0.296}</td>\n",
       "      <td>3648</td>\n",
       "      <td>30000</td>\n",
       "    </tr>\n",
       "    <tr>\n",
       "      <th>900.0</th>\n",
       "      <td>0.001</td>\n",
       "      <td>900.0</td>\n",
       "      <td>0.11872</td>\n",
       "      <td>{0.7: (0.11458135198867091, 0.12285768475199337)}</td>\n",
       "      <td>{0.7: 0.261}</td>\n",
       "      <td>5448</td>\n",
       "      <td>30000</td>\n",
       "    </tr>\n",
       "    <tr>\n",
       "      <th>1200.0</th>\n",
       "      <td>0.001</td>\n",
       "      <td>1200.0</td>\n",
       "      <td>0.115918</td>\n",
       "      <td>{0.7: (0.1121686714866445, 0.11966681058484821)}</td>\n",
       "      <td>{0.7: 0.267}</td>\n",
       "      <td>7248</td>\n",
       "      <td>30000</td>\n",
       "    </tr>\n",
       "    <tr>\n",
       "      <th>1500.0</th>\n",
       "      <td>0.001</td>\n",
       "      <td>1500.0</td>\n",
       "      <td>0.114326</td>\n",
       "      <td>{0.7: (0.11063613881050656, 0.11801566007207644)}</td>\n",
       "      <td>{0.7: 0.27}</td>\n",
       "      <td>9042</td>\n",
       "      <td>30000</td>\n",
       "    </tr>\n",
       "    <tr>\n",
       "      <th>1800.0</th>\n",
       "      <td>0.001</td>\n",
       "      <td>1800.0</td>\n",
       "      <td>0.114915</td>\n",
       "      <td>{0.7: (0.11091460280452876, 0.11891487632141888)}</td>\n",
       "      <td>{0.7: 0.222}</td>\n",
       "      <td>10830</td>\n",
       "      <td>30000</td>\n",
       "    </tr>\n",
       "    <tr>\n",
       "      <th>2100.0</th>\n",
       "      <td>0.001</td>\n",
       "      <td>2100.0</td>\n",
       "      <td>0.118175</td>\n",
       "      <td>{0.7: (0.11435392520464716, 0.12199585249272982)}</td>\n",
       "      <td>{0.7: 0.282}</td>\n",
       "      <td>12654</td>\n",
       "      <td>30000</td>\n",
       "    </tr>\n",
       "    <tr>\n",
       "      <th>2400.0</th>\n",
       "      <td>0.001</td>\n",
       "      <td>2400.0</td>\n",
       "      <td>0.116337</td>\n",
       "      <td>{0.7: (0.11253532908581665, 0.12013892770004458)}</td>\n",
       "      <td>{0.7: 0.288}</td>\n",
       "      <td>14436</td>\n",
       "      <td>30000</td>\n",
       "    </tr>\n",
       "    <tr>\n",
       "      <th>2700.0</th>\n",
       "      <td>0.001</td>\n",
       "      <td>2700.0</td>\n",
       "      <td>0.115254</td>\n",
       "      <td>{0.7: (0.11155598014515393, 0.11895172926815843)}</td>\n",
       "      <td>{0.7: 0.277}</td>\n",
       "      <td>16236</td>\n",
       "      <td>30000</td>\n",
       "    </tr>\n",
       "    <tr>\n",
       "      <th>3000.0</th>\n",
       "      <td>0.001</td>\n",
       "      <td>3000.0</td>\n",
       "      <td>0.113198</td>\n",
       "      <td>{0.7: (0.10948812284902441, 0.11690839250130915)}</td>\n",
       "      <td>{0.7: 0.264}</td>\n",
       "      <td>18036</td>\n",
       "      <td>30000</td>\n",
       "    </tr>\n",
       "  </tbody>\n",
       "</table>\n",
       "</div>"
      ]
     },
     "execution_count": 83,
     "metadata": {},
     "output_type": "execute_result"
    }
   ],
   "execution_count": 83
  },
  {
   "metadata": {
    "ExecuteTime": {
     "end_time": "2024-09-17T13:52:33.389739Z",
     "start_time": "2024-09-17T13:52:33.161973Z"
    }
   },
   "cell_type": "code",
   "source": "plot_fits_and_miscoverage(res_patience_df, 0.7, ncv_miscoverage_rates, cv_miscoverage_rates, 'patience', logx=False)",
   "id": "59586d3c69f4a227",
   "outputs": [
    {
     "data": {
      "text/plain": [
       "<Figure size 1000x300 with 2 Axes>"
      ],
      "image/png": "[encoded data removed]"
     },
     "metadata": {
      "image/png": {
       "width": 988,
       "height": 290
      }
     },
     "output_type": "display_data"
    }
   ],
   "execution_count": 94
  },
  {
   "metadata": {},
   "cell_type": "code",
   "outputs": [],
   "execution_count": null,
   "source": "",
   "id": "4965fd4c10ae171c"
  }
 ],
 "metadata": {
  "kernelspec": {
   "display_name": "Python 3",
   "language": "python",
   "name": "python3"
  },
  "language_info": {
   "codemirror_mode": {
    "name": "ipython",
    "version": 2
   },
   "file_extension": ".py",
   "mimetype": "text/x-python",
   "name": "python",
   "nbconvert_exporter": "python",
   "pygments_lexer": "ipython2",
   "version": "2.7.6"
  }
 },
 "nbformat": 4,
 "nbformat_minor": 5
}
