{
 "cells": [
  {
   "cell_type": "code",
   "id": "initial_id",
   "metadata": {
    "collapsed": true,
    "ExecuteTime": {
     "end_time": "2024-09-16T17:01:12.329543Z",
     "start_time": "2024-09-16T17:01:12.323247Z"
    }
   },
   "source": "from notebook_env import * ",
   "outputs": [],
   "execution_count": 7
  },
  {
   "metadata": {
    "ExecuteTime": {
     "end_time": "2024-09-16T17:01:12.489127Z",
     "start_time": "2024-09-16T17:01:12.486039Z"
    }
   },
   "cell_type": "code",
   "source": [
    "epsilons_lin = np.linspace(1e-5, 1e-1, num = 5)\n",
    "epsilons_log = np.logspace(-5,-1, num = 5)"
   ],
   "id": "88ed7a098185b5fb",
   "outputs": [],
   "execution_count": 8
  },
  {
   "metadata": {
    "ExecuteTime": {
     "end_time": "2024-09-16T17:01:12.901125Z",
     "start_time": "2024-09-16T17:01:12.899154Z"
    }
   },
   "cell_type": "code",
   "source": [
    "k_inner, k_outer = 5,5\n",
    "n_reps = 1000\n",
    "patience = n_reps*(1+k_inner)*k_outer/100\n",
    "quantiles = [0.7]"
   ],
   "id": "2756b1581934af33",
   "outputs": [],
   "execution_count": 9
  },
  {
   "metadata": {
    "ExecuteTime": {
     "end_time": "2024-09-16T17:01:13.422881Z",
     "start_time": "2024-09-16T17:01:13.419476Z"
    }
   },
   "cell_type": "code",
   "source": [
    "# Define the experiment\n",
    "def run_single_early_stopping_experiment(n_reps, quantiles, k_outer, k_inner, epsilon, patience):\n",
    "    exp = nested_cv_intervals_with_early_stopping.CvIntervalsWithEarlyStoppingTest(n_reps,quantiles,k_outer,k_inner,epsilon,patience)\n",
    "    mean_error, intervals, miscoverage_rates, total_fits, max_fits = exp.run()\n",
    "    return mean_error, intervals, miscoverage_rates, total_fits, max_fits\n",
    "\n",
    "def run_early_stopping_over_epsilons(epsilons, n_reps, quantiles, k_outer, k_inner, patience):\n",
    "    results = {}\n",
    "    for epsilon in epsilons:\n",
    "        mean_error, intervals, miscoverage_rates, total_fits, max_fits = run_single_early_stopping_experiment(n_reps, quantiles, k_outer, k_inner, epsilon, patience)\n",
    "        results[epsilon] = (epsilon, mean_error, intervals, miscoverage_rates, total_fits, max_fits)\n",
    "    return results\n",
    "\n"
   ],
   "id": "3de4e0d9eea11b24",
   "outputs": [],
   "execution_count": 10
  },
  {
   "metadata": {
    "ExecuteTime": {
     "end_time": "2024-09-16T17:01:32.932742Z",
     "start_time": "2024-09-16T17:01:14.444636Z"
    }
   },
   "cell_type": "code",
   "source": "res = run_early_stopping_over_epsilons(epsilons_log, n_reps, quantiles, k_outer, k_inner, patience)",
   "id": "8d4561c479e2a11a",
   "outputs": [
    {
     "name": "stderr",
     "output_type": "stream",
     "text": [
      "Nested CV repetitions: 100%|██████████| 1000/1000 [00:03<00:00, 266.48it/s]\n"
     ]
    },
    {
     "name": "stdout",
     "output_type": "stream",
     "text": [
      "Total fits performed: 3450 out of 30000 possible.\n",
      "Estimated Prediction Error: 0.11685996570483088\n",
      "Confidence Intervals: {0.7: (0.11294701487142539, 0.12077291587759917)}\n",
      "Total Fits Performed: 3450 / 30000\n"
     ]
    },
    {
     "name": "stderr",
     "output_type": "stream",
     "text": [
      "Nested CV repetitions: 100%|██████████| 1000/1000 [00:03<00:00, 285.14it/s]\n"
     ]
    },
    {
     "name": "stdout",
     "output_type": "stream",
     "text": [
      "Total fits performed: 3378 out of 30000 possible.\n",
      "Estimated Prediction Error: 0.11418911337443845\n",
      "Confidence Intervals: {0.7: (0.1104273762911369, 0.11795084847287095)}\n",
      "Total Fits Performed: 3378 / 30000\n"
     ]
    },
    {
     "name": "stderr",
     "output_type": "stream",
     "text": [
      "Nested CV repetitions: 100%|██████████| 1000/1000 [00:03<00:00, 264.71it/s]\n"
     ]
    },
    {
     "name": "stdout",
     "output_type": "stream",
     "text": [
      "Total fits performed: 3258 out of 30000 possible.\n",
      "Estimated Prediction Error: 0.11839700580156394\n",
      "Confidence Intervals: {0.7: (0.11471324938331007, 0.12208075992212325)}\n",
      "Total Fits Performed: 3258 / 30000\n"
     ]
    },
    {
     "name": "stderr",
     "output_type": "stream",
     "text": [
      "Nested CV repetitions: 100%|██████████| 1000/1000 [00:03<00:00, 263.00it/s]\n"
     ]
    },
    {
     "name": "stdout",
     "output_type": "stream",
     "text": [
      "Total fits performed: 3210 out of 30000 possible.\n",
      "Estimated Prediction Error: 0.11155950295527911\n",
      "Confidence Intervals: {0.7: (0.10790439045320277, 0.11521461395727725)}\n",
      "Total Fits Performed: 3210 / 30000\n"
     ]
    },
    {
     "name": "stderr",
     "output_type": "stream",
     "text": [
      "Nested CV repetitions: 100%|██████████| 1000/1000 [00:03<00:00, 276.05it/s]\n"
     ]
    },
    {
     "name": "stdout",
     "output_type": "stream",
     "text": [
      "Total fits performed: 3372 out of 30000 possible.\n",
      "Estimated Prediction Error: 0.11408843041587167\n",
      "Confidence Intervals: {0.7: (0.11032728002167803, 0.11784957677579515)}\n",
      "Total Fits Performed: 3372 / 30000\n"
     ]
    }
   ],
   "execution_count": 11
  },
  {
   "metadata": {
    "ExecuteTime": {
     "end_time": "2024-09-16T17:05:24.328157Z",
     "start_time": "2024-09-16T17:05:24.285092Z"
    }
   },
   "cell_type": "code",
   "source": [
    "res_df = pd.DataFrame(res).T\n",
    "res_df.head()"
   ],
   "id": "ee5d9bd41e83fce8",
   "outputs": [
    {
     "data": {
      "text/plain": [
       "               0         1                                                  2  \\\n",
       "0.00001  0.00001   0.11686  {0.7: (0.11294701487142539, 0.12077291587759917)}   \n",
       "0.00010   0.0001  0.114189   {0.7: (0.1104273762911369, 0.11795084847287095)}   \n",
       "0.00100    0.001  0.118397  {0.7: (0.11471324938331007, 0.12208075992212325)}   \n",
       "0.01000     0.01   0.11156  {0.7: (0.10790439045320277, 0.11521461395727725)}   \n",
       "0.10000      0.1  0.114088  {0.7: (0.11032728002167803, 0.11784957677579515)}   \n",
       "\n",
       "                    3     4      5  \n",
       "0.00001   {0.7: 0.23}  3450  30000  \n",
       "0.00010  {0.7: 0.263}  3378  30000  \n",
       "0.00100  {0.7: 0.326}  3258  30000  \n",
       "0.01000  {0.7: 0.216}  3210  30000  \n",
       "0.10000  {0.7: 0.254}  3372  30000  "
      ],
      "text/html": [
       "<div>\n",
       "<style scoped>\n",
       "    .dataframe tbody tr th:only-of-type {\n",
       "        vertical-align: middle;\n",
       "    }\n",
       "\n",
       "    .dataframe tbody tr th {\n",
       "        vertical-align: top;\n",
       "    }\n",
       "\n",
       "    .dataframe thead th {\n",
       "        text-align: right;\n",
       "    }\n",
       "</style>\n",
       "<table border=\"1\" class=\"dataframe\">\n",
       "  <thead>\n",
       "    <tr style=\"text-align: right;\">\n",
       "      <th></th>\n",
       "      <th>0</th>\n",
       "      <th>1</th>\n",
       "      <th>2</th>\n",
       "      <th>3</th>\n",
       "      <th>4</th>\n",
       "      <th>5</th>\n",
       "    </tr>\n",
       "  </thead>\n",
       "  <tbody>\n",
       "    <tr>\n",
       "      <th>0.00001</th>\n",
       "      <td>0.00001</td>\n",
       "      <td>0.11686</td>\n",
       "      <td>{0.7: (0.11294701487142539, 0.12077291587759917)}</td>\n",
       "      <td>{0.7: 0.23}</td>\n",
       "      <td>3450</td>\n",
       "      <td>30000</td>\n",
       "    </tr>\n",
       "    <tr>\n",
       "      <th>0.00010</th>\n",
       "      <td>0.0001</td>\n",
       "      <td>0.114189</td>\n",
       "      <td>{0.7: (0.1104273762911369, 0.11795084847287095)}</td>\n",
       "      <td>{0.7: 0.263}</td>\n",
       "      <td>3378</td>\n",
       "      <td>30000</td>\n",
       "    </tr>\n",
       "    <tr>\n",
       "      <th>0.00100</th>\n",
       "      <td>0.001</td>\n",
       "      <td>0.118397</td>\n",
       "      <td>{0.7: (0.11471324938331007, 0.12208075992212325)}</td>\n",
       "      <td>{0.7: 0.326}</td>\n",
       "      <td>3258</td>\n",
       "      <td>30000</td>\n",
       "    </tr>\n",
       "    <tr>\n",
       "      <th>0.01000</th>\n",
       "      <td>0.01</td>\n",
       "      <td>0.11156</td>\n",
       "      <td>{0.7: (0.10790439045320277, 0.11521461395727725)}</td>\n",
       "      <td>{0.7: 0.216}</td>\n",
       "      <td>3210</td>\n",
       "      <td>30000</td>\n",
       "    </tr>\n",
       "    <tr>\n",
       "      <th>0.10000</th>\n",
       "      <td>0.1</td>\n",
       "      <td>0.114088</td>\n",
       "      <td>{0.7: (0.11032728002167803, 0.11784957677579515)}</td>\n",
       "      <td>{0.7: 0.254}</td>\n",
       "      <td>3372</td>\n",
       "      <td>30000</td>\n",
       "    </tr>\n",
       "  </tbody>\n",
       "</table>\n",
       "</div>"
      ]
     },
     "execution_count": 12,
     "metadata": {},
     "output_type": "execute_result"
    }
   ],
   "execution_count": 12
  },
  {
   "metadata": {},
   "cell_type": "code",
   "outputs": [],
   "execution_count": null,
   "source": "",
   "id": "dc6e98cb365cccdd"
  }
 ],
 "metadata": {
  "kernelspec": {
   "display_name": "Python 3",
   "language": "python",
   "name": "python3"
  },
  "language_info": {
   "codemirror_mode": {
    "name": "ipython",
    "version": 2
   },
   "file_extension": ".py",
   "mimetype": "text/x-python",
   "name": "python",
   "nbconvert_exporter": "python",
   "pygments_lexer": "ipython2",
   "version": "2.7.6"
  }
 },
 "nbformat": 4,
 "nbformat_minor": 5
}
