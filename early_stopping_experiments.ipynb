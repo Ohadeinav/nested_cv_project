{
 "cells": [
  {
   "cell_type": "code",
   "id": "initial_id",
   "metadata": {
    "collapsed": true,
    "ExecuteTime": {
     "end_time": "2024-09-16T13:29:05.448358Z",
     "start_time": "2024-09-16T13:29:04.449383Z"
    }
   },
   "source": "from notebook_env import * ",
   "outputs": [],
   "execution_count": 1
  },
  {
   "metadata": {
    "ExecuteTime": {
     "end_time": "2024-09-16T13:50:21.703078Z",
     "start_time": "2024-09-16T13:50:21.700364Z"
    }
   },
   "cell_type": "code",
   "source": [
    "epsilons_lin = np.linspace(1e-5, 1e-1, num = 20)\n",
    "epsilons_log = np.logspace(-5,-1, num = 20)"
   ],
   "id": "88ed7a098185b5fb",
   "outputs": [],
   "execution_count": 17
  },
  {
   "metadata": {
    "ExecuteTime": {
     "end_time": "2024-09-16T13:52:29.253470Z",
     "start_time": "2024-09-16T13:52:29.245506Z"
    }
   },
   "cell_type": "code",
   "source": [
    "k_inner, k_outer = 5,5\n",
    "n_reps = 100\n",
    "patience = n_reps*(1+k_inner)*k_outer/100\n",
    "quantiles = [0.7,0.8,0.9,0.95]"
   ],
   "id": "2756b1581934af33",
   "outputs": [],
   "execution_count": 20
  },
  {
   "metadata": {},
   "cell_type": "code",
   "outputs": [],
   "execution_count": null,
   "source": [
    "# Define the experiment\n",
    "def run_single_early_stopping_experiment(epsilon, quantile):\n",
    "    exp = nested_cv_intervals_with_early_stopping.CvIntervalsWithEarlyStoppingTest()"
   ],
   "id": "3de4e0d9eea11b24"
  }
 ],
 "metadata": {
  "kernelspec": {
   "display_name": "Python 3",
   "language": "python",
   "name": "python3"
  },
  "language_info": {
   "codemirror_mode": {
    "name": "ipython",
    "version": 2
   },
   "file_extension": ".py",
   "mimetype": "text/x-python",
   "name": "python",
   "nbconvert_exporter": "python",
   "pygments_lexer": "ipython2",
   "version": "2.7.6"
  }
 },
 "nbformat": 4,
 "nbformat_minor": 5
}
